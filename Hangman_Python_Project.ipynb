{
  "nbformat": 4,
  "nbformat_minor": 0,
  "metadata": {
    "colab": {
      "provenance": [],
      "authorship_tag": "ABX9TyNCQO0bqUqnoBbYX0ScuOIk",
      "include_colab_link": true
    },
    "kernelspec": {
      "name": "python3",
      "display_name": "Python 3"
    },
    "language_info": {
      "name": "python"
    }
  },
  "cells": [
    {
      "cell_type": "markdown",
      "metadata": {
        "id": "view-in-github",
        "colab_type": "text"
      },
      "source": [
        "<a href=\"https://colab.research.google.com/github/1bakhtawar/Compulsory-Project/blob/main/Hangman_Python_Project.ipynb\" target=\"_parent\"><img src=\"https://colab.research.google.com/assets/colab-badge.svg\" alt=\"Open In Colab\"/></a>"
      ]
    },
    {
      "cell_type": "code",
      "execution_count": null,
      "metadata": {
        "id": "DjuW28zD_JWx",
        "colab": {
          "base_uri": "https://localhost:8080/"
        },
        "outputId": "e50fcd8d-449a-4e01-a184-d5106c48076d"
      },
      "outputs": [
        {
          "output_type": "stream",
          "name": "stdout",
          "text": [
            "Hello World\n"
          ]
        }
      ],
      "source": [
        "import random\n",
        "words = ['enum', 'python' , 'collab', 'vscode' , 'game']\n",
        "\n",
        "word = random.choice(words)\n",
        "guessed_letter = []\n",
        "attempts = 6\n",
        "\n",
        "print(\"Welcome to Hangman Game\")\n",
        "print(\"_\" * len(word))\n",
        "\n",
        "while attempts > 0:\n",
        "    guess = input(\"\\n guess the letters:\").lower()\n",
        "\n",
        "    if len(guess) != 1 or not guess.isalpha():\n",
        "        print(\"Write one alphabet only!\")\n",
        "        continue\n",
        "    if guess in guessed_letter:\n",
        "        print(\"This letter is already guess choose another letter\")\n",
        "        continue\n",
        "    guessed_letter.append(guess)\n",
        "\n",
        "    if guess in word:\n",
        "        print(\"Correct Guess\")\n",
        "    else:\n",
        "        attempts -= 1\n",
        "        print(f\"Wrong {attempts} attempts\")\n",
        "\n",
        "    displayed_word = \" \".join([letter if letter in guessed_letter else \"_\" for letter in word])\n",
        "    print(displayed_word)\n",
        "\n",
        "    if \"_\" not in displayed_word:\n",
        "        print(f\"Congratulation! the coorect word is : {word}\")\n",
        "        break\n",
        "else:\n",
        "    print(f\"Game over! The correct word is: {word}\")"
      ]
    },
    {
      "cell_type": "markdown",
      "source": [
        "#Hello World\n",
        "##Hello World\n",
        "*Hello World*\n",
        "\n",
        "**Hello World**\n",
        "\n",
        "-Hello World-"
      ],
      "metadata": {
        "id": "rw4aWcqhFXnh"
      }
    }
  ]
}