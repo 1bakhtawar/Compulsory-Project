{
  "nbformat": 4,
  "nbformat_minor": 0,
  "metadata": {
    "colab": {
      "provenance": [],
      "authorship_tag": "ABX9TyNa8I5xURgSIooevCxjA38H",
      "include_colab_link": true
    },
    "kernelspec": {
      "name": "python3",
      "display_name": "Python 3"
    },
    "language_info": {
      "name": "python"
    }
  },
  "cells": [
    {
      "cell_type": "markdown",
      "metadata": {
        "id": "view-in-github",
        "colab_type": "text"
      },
      "source": [
        "<a href=\"https://colab.research.google.com/github/1bakhtawar/Compulsory-Project/blob/main/Countdown_Timer.ipynb\" target=\"_parent\"><img src=\"https://colab.research.google.com/assets/colab-badge.svg\" alt=\"Open In Colab\"/></a>"
      ]
    },
    {
      "cell_type": "code",
      "execution_count": null,
      "metadata": {
        "id": "I_o8hGWIHhMP"
      },
      "outputs": [],
      "source": [
        "import time\n",
        "def countdown_timer(seconds):\n",
        "    while seconds > 0:\n",
        "        min, secs = divmod(seconds, 60) #claculate minutes and seconds\n",
        "        time_format = '{:02d}:{:02d}'.format(min, secs) #MM:SS formate\n",
        "        print(time_format, end='\\r')\n",
        "        time.sleep(1) # delay\n",
        "        seconds -= 1\n",
        "    print(\"00:00 \\n Time's Up!\")\n",
        "#user input for timer\n",
        "total_seconds =int(input(\"Enter time in second for countdown: \"))\n",
        "countdown_timer(total_seconds)"
      ]
    }
  ]
}