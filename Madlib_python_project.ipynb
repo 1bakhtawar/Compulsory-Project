{
  "nbformat": 4,
  "nbformat_minor": 0,
  "metadata": {
    "colab": {
      "provenance": [],
      "authorship_tag": "ABX9TyPL4L0GiMkTojmgU5qc4Y2s",
      "include_colab_link": true
    },
    "kernelspec": {
      "name": "python3",
      "display_name": "Python 3"
    },
    "language_info": {
      "name": "python"
    }
  },
  "cells": [
    {
      "cell_type": "markdown",
      "metadata": {
        "id": "view-in-github",
        "colab_type": "text"
      },
      "source": [
        "<a href=\"https://colab.research.google.com/github/1bakhtawar/Compulsory-Project/blob/main/Madlib_python_project.ipynb\" target=\"_parent\"><img src=\"https://colab.research.google.com/assets/colab-badge.svg\" alt=\"Open In Colab\"/></a>"
      ]
    },
    {
      "cell_type": "code",
      "execution_count": 1,
      "metadata": {
        "colab": {
          "base_uri": "https://localhost:8080/"
        },
        "id": "bIIFwuQFSCzj",
        "outputId": "b082e36c-abb1-42ec-abb6-9ecf7fe163fb"
      },
      "outputs": [
        {
          "output_type": "stream",
          "name": "stdout",
          "text": [
            "Let's play Mad Libs.! Fill in the blanks with your own words.\n",
            "Give me a name: ali\n",
            "Give me a place: karachi\n",
            "Give me a funny adjective: excited\n",
            "Give me a random object: bottle\n",
            "Give me an animal: cat\n",
            "Give me an action verb: walking\n",
            "Give me a funny exclamation: Aha!\n",
            "\n",
            " Here is your Mad Libs story: \n",
            "Once upon a time,there was a person named ali.Who lived in karachi.One day they found a excited bottle that belonged to a cat. The cat was very upset and started to walking around. ali couldn't help but laugh and shouted \"Aha!!\".\n"
          ]
        }
      ],
      "source": [
        "def mad_libs():\n",
        "    print(\"Let\\'s play Mad Libs.! Fill in the blanks with your own words.\")\n",
        "\n",
        "    name = input(\"Give me a name: \")\n",
        "    place = input(\"Give me a place: \")\n",
        "    funny_adj = input(\"Give me a funny adjective: \")\n",
        "    random_object = input(\"Give me a random object: \")\n",
        "    animals = input(\"Give me an animal: \")\n",
        "    action_verb = input(\"Give me an action verb: \")\n",
        "    funny_exclamation = input(\"Give me a funny exclamation: \")\n",
        "\n",
        "    story = f\"\"\"Once upon a time,there was a person named {name}.Who lived in {place}.One day they found a {funny_adj} {random_object} that belonged to a {animals}. The {animals} was very upset and started to {action_verb} around. {name} couldn't help but laugh and shouted \"{funny_exclamation}!\".\"\"\"\n",
        "\n",
        "    print(\"\\n Here is your Mad Libs story: \")\n",
        "    print(story)\n",
        "\n",
        "if __name__ == '__main__':\n",
        "   mad_libs()"
      ]
    }
  ]
}