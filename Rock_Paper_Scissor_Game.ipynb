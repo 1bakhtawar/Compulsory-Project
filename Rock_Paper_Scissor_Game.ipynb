{
  "nbformat": 4,
  "nbformat_minor": 0,
  "metadata": {
    "colab": {
      "provenance": [],
      "authorship_tag": "ABX9TyPQWktEyrQ1ojSBfVhYjsP6",
      "include_colab_link": true
    },
    "kernelspec": {
      "name": "python3",
      "display_name": "Python 3"
    },
    "language_info": {
      "name": "python"
    }
  },
  "cells": [
    {
      "cell_type": "markdown",
      "metadata": {
        "id": "view-in-github",
        "colab_type": "text"
      },
      "source": [
        "<a href=\"https://colab.research.google.com/github/1bakhtawar/Compulsory-Project/blob/main/Rock_Paper_Scissor_Game.ipynb\" target=\"_parent\"><img src=\"https://colab.research.google.com/assets/colab-badge.svg\" alt=\"Open In Colab\"/></a>"
      ]
    },
    {
      "cell_type": "code",
      "execution_count": 1,
      "metadata": {
        "id": "cDwJY3CNaRhV",
        "colab": {
          "base_uri": "https://localhost:8080/"
        },
        "outputId": "deff9d7f-f85f-48e4-dedb-6d45217c38e5"
      },
      "outputs": [
        {
          "output_type": "stream",
          "name": "stdout",
          "text": [
            "Welcome to the Rock, Paper, Scissors game!\n",
            "Let's play!\n",
            "Type Rock, Paper, Scissors or Q to quit: Paper\n",
            "Computer chose paper.\n",
            "It's a tie!\n",
            "Current score - You: 0, Computer: 0\n",
            "Type Rock, Paper, Scissors or Q to quit: Rock\n",
            "Computer chose scissors.\n",
            "You win!\n",
            "Current score - You: 1, Computer: 0\n",
            "Type Rock, Paper, Scissors or Q to quit: scissors\n",
            "Computer chose paper.\n",
            "You win!\n",
            "Current score - You: 2, Computer: 0\n",
            "Type Rock, Paper, Scissors or Q to quit: Rock\n",
            "Computer chose scissors.\n",
            "You win!\n",
            "Current score - You: 3, Computer: 0\n",
            "Type Rock, Paper, Scissors or Q to quit: scissors\n",
            "Computer chose scissors.\n",
            "It's a tie!\n",
            "Current score - You: 3, Computer: 0\n",
            "Type Rock, Paper, Scissors or Q to quit: Paper\n",
            "Computer chose rock.\n",
            "You win!\n",
            "Current score - You: 4, Computer: 0\n",
            "Type Rock, Paper, Scissors or Q to quit: Q\n",
            "Final score - You: 4, Computer: 0\n",
            "Thanks for playing!\n"
          ]
        }
      ],
      "source": [
        "import random\n",
        "\n",
        "print(\"Welcome to the Rock, Paper, Scissors game!\")\n",
        "\n",
        "choices = [\"rock\", \"paper\", \"scissors\"]\n",
        "user_score = computer_score = 0\n",
        "\n",
        "print(\"Let's play!\")\n",
        "\n",
        "while True:\n",
        "    user_input = input(\"Type Rock, Paper, Scissors or Q to quit: \").lower()\n",
        "\n",
        "    if user_input == 'q':\n",
        "        print(f\"Final score - You: {user_score}, Computer: {computer_score}\")\n",
        "        print(\"Thanks for playing!\")\n",
        "        break\n",
        "\n",
        "    if user_input not in choices:\n",
        "        print(\"Invalid input, please try again.\")\n",
        "        continue\n",
        "\n",
        "    computer_chose = random.choice(choices)\n",
        "    print(f\"Computer chose {computer_chose}.\")\n",
        "\n",
        "    if user_input == computer_chose:\n",
        "        print(\"It's a tie!\")\n",
        "    elif (user_input == \"rock\" and computer_chose == \"scissors\") or \\\n",
        "         (user_input == \"paper\" and computer_chose == \"rock\") or \\\n",
        "         (user_input == \"scissors\" and computer_chose == \"paper\"):\n",
        "        print(\"You win!\")\n",
        "        user_score += 1\n",
        "    else:\n",
        "        print(\"Computer wins!\")\n",
        "        computer_score += 1\n",
        "\n",
        "    print(f\"Current score - You: {user_score}, Computer: {computer_score}\")\n"
      ]
    }
  ]
}