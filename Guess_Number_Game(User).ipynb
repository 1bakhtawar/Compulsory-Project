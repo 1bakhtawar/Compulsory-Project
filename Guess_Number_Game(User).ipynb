{
  "nbformat": 4,
  "nbformat_minor": 0,
  "metadata": {
    "colab": {
      "provenance": [],
      "authorship_tag": "ABX9TyMBbYEKG9M8TOr+ow4gEcJZ",
      "include_colab_link": true
    },
    "kernelspec": {
      "name": "python3",
      "display_name": "Python 3"
    },
    "language_info": {
      "name": "python"
    }
  },
  "cells": [
    {
      "cell_type": "markdown",
      "metadata": {
        "id": "view-in-github",
        "colab_type": "text"
      },
      "source": [
        "<a href=\"https://colab.research.google.com/github/1bakhtawar/Compulsory-Project/blob/main/Guess_Number_Game(User).ipynb\" target=\"_parent\"><img src=\"https://colab.research.google.com/assets/colab-badge.svg\" alt=\"Open In Colab\"/></a>"
      ]
    },
    {
      "cell_type": "code",
      "execution_count": 2,
      "metadata": {
        "colab": {
          "base_uri": "https://localhost:8080/"
        },
        "id": "YITqSg9BZEZp",
        "outputId": "023c4b61-478d-4f77-fef5-e248a59ff088"
      },
      "outputs": [
        {
          "output_type": "stream",
          "name": "stdout",
          "text": [
            "Welcome to the number guessing game.\n",
            "I have secret number between 1 and 10. Can you guess it?\n",
            "Enter your guess: 6\n",
            "Too High! Try again.\n",
            "Enter your guess: 3\n",
            "Too low! Try again.\n",
            "Enter your guess: 5\n",
            "Congratulation! You have guessed the number!\n"
          ]
        }
      ],
      "source": [
        "import random\n",
        "\n",
        "print(\"Welcome to the number guessing game.\")\n",
        "\n",
        "secret_number = random.randint(1,10)\n",
        "print(\"I have secret number between 1 and 10. Can you guess it?\")\n",
        "\n",
        "while True:\n",
        "    try:\n",
        "        guess = int(input(\"Enter your guess: \"))\n",
        "        if guess > secret_number:\n",
        "            print(\"Too High! Try again.\")\n",
        "        elif guess < secret_number:\n",
        "            print(\"Too low! Try again.\")\n",
        "        else:\n",
        "            print(\"Congratulation! You have guessed the number!\")\n",
        "            break\n",
        "    except ValueError:\n",
        "        print(\"Invalid input. Please enter a number between 1 and 10.\")"
      ]
    }
  ]
}