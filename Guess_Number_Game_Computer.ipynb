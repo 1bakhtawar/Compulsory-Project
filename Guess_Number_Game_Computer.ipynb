{
  "nbformat": 4,
  "nbformat_minor": 0,
  "metadata": {
    "colab": {
      "provenance": [],
      "authorship_tag": "ABX9TyPNRhl7A2Y/8V5dx4qlFEq2",
      "include_colab_link": true
    },
    "kernelspec": {
      "name": "python3",
      "display_name": "Python 3"
    },
    "language_info": {
      "name": "python"
    }
  },
  "cells": [
    {
      "cell_type": "markdown",
      "metadata": {
        "id": "view-in-github",
        "colab_type": "text"
      },
      "source": [
        "<a href=\"https://colab.research.google.com/github/1bakhtawar/Compulsory-Project/blob/main/Guess_Number_Game_Computer.ipynb\" target=\"_parent\"><img src=\"https://colab.research.google.com/assets/colab-badge.svg\" alt=\"Open In Colab\"/></a>"
      ]
    },
    {
      "cell_type": "code",
      "execution_count": 3,
      "metadata": {
        "colab": {
          "base_uri": "https://localhost:8080/"
        },
        "id": "TmvXtJ_9YF3D",
        "outputId": "be0b0b4d-bbaf-4c34-fe7d-aca25049a321"
      },
      "outputs": [
        {
          "output_type": "stream",
          "name": "stdout",
          "text": [
            "Welcome to the number guessing game\n",
            "Think of a number between 1 to 10 and computer will be guess it.\n",
            "Computer's guess is:  6\n",
            "Is the guess to high (H), too low (L), or correct (C).H\n",
            "Computer's guess is:  1\n",
            "Is the guess to high (H), too low (L), or correct (C).C\n",
            "Yay! The computer guessed your number \n"
          ]
        }
      ],
      "source": [
        "import random\n",
        "print(\"Welcome to the number guessing game\")\n",
        "\n",
        "low = 1\n",
        "high = 10\n",
        "\n",
        "print(\"Think of a number between 1 to 10 and computer will be guess it.\")\n",
        "\n",
        "if low <= high:\n",
        "    guess = random.randint(low,high)\n",
        "    print(\"Computer's guess is: \", guess)\n",
        "\n",
        "    while True:\n",
        "        feedback =input(\"Is the guess to high (H), too low (L), or correct (C).\")\n",
        "\n",
        "        if feedback == 'C':\n",
        "            print(\"Yay! The computer guessed your number \")\n",
        "            break\n",
        "        elif feedback == 'H':\n",
        "            high = guess -1\n",
        "            guess = random.randint(low,high)\n",
        "            print(\"Computer's guess is: \" ,guess)\n",
        "\n",
        "        elif feedback == 'L':\n",
        "            low = guess + 1\n",
        "            guess = random.randint(low,high)\n",
        "            print(\"Computer's guess is: \", guess)\n",
        "\n",
        "        else:\n",
        "            print(\"Invalid input. Please enter H,L and C.\")\n",
        "\n",
        "if low > high:\n",
        "    print(\"The number is not in the range. Please try again.\")\n"
      ]
    }
  ]
}